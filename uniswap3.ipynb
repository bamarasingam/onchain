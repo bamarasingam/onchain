{
 "cells": [
  {
   "cell_type": "markdown",
   "id": "576a773b-a3a5-4c3f-8ff2-035747ca6612",
   "metadata": {},
   "source": [
    "Simulating Uniswap V3 Liquidity Pool"
   ]
  },
  {
   "cell_type": "code",
   "execution_count": 2,
   "id": "2d20efc8-d981-41c0-b89c-7967eb414f4a",
   "metadata": {},
   "outputs": [
    {
     "ename": "SyntaxError",
     "evalue": "invalid syntax (Chain0x.py, line 104)",
     "output_type": "error",
     "traceback": [
      "Traceback \u001b[0;36m(most recent call last)\u001b[0m:\n",
      "\u001b[0m  File \u001b[1;32m~/anaconda3/envs/quant/lib/python3.9/site-packages/IPython/core/interactiveshell.py:3508\u001b[0m in \u001b[1;35mrun_code\u001b[0m\n    exec(code_obj, self.user_global_ns, self.user_ns)\u001b[0m\n",
      "\u001b[0m  Cell \u001b[1;32mIn[2], line 1\u001b[0m\n    from uniswappy import *\u001b[0m\n",
      "\u001b[0m  File \u001b[1;32m~/anaconda3/envs/quant/lib/python3.9/site-packages/uniswappy/__init__.py:2\u001b[0m\n    from uniswappy.cpt.exchg import *\u001b[0m\n",
      "\u001b[0m  File \u001b[1;32m~/anaconda3/envs/quant/lib/python3.9/site-packages/uniswappy/cpt/exchg/__init__.py:1\u001b[0m\n    from .UniswapExchange import UniswapExchange\u001b[0m\n",
      "\u001b[0m  File \u001b[1;32m~/anaconda3/envs/quant/lib/python3.9/site-packages/uniswappy/cpt/exchg/UniswapExchange.py:8\u001b[0m\n    from ...utils.data import UniswapExchangeData\u001b[0m\n",
      "\u001b[0;36m  File \u001b[0;32m~/anaconda3/envs/quant/lib/python3.9/site-packages/uniswappy/utils/data/__init__.py:4\u001b[0;36m\n\u001b[0;31m    from .Chain0x import Chain0x\u001b[0;36m\n",
      "\u001b[0;36m  File \u001b[0;32m~/anaconda3/envs/quant/lib/python3.9/site-packages/uniswappy/utils/data/Chain0x.py:104\u001b[0;36m\u001b[0m\n\u001b[0;31m    match self.chain_nm:\u001b[0m\n\u001b[0m          ^\u001b[0m\n\u001b[0;31mSyntaxError\u001b[0m\u001b[0;31m:\u001b[0m invalid syntax\n"
     ]
    }
   ],
   "source": [
    "from uniswappy import *\n",
    "\n",
    "eth_amount = 100\n",
    "tkn_amount = 1000\n",
    "\n",
    "n_steps = 1000\n",
    "start_price = eth_amount/tkn_amount\n",
    "mu = 0.1; sigma = 0.5\n",
    "n_paths = 1\n",
    "\n",
    "b = BrownianModel(start_price)\n",
    "p_arr = b.gen_gbms(mu, sigma, n_steps, n_paths)\n",
    "exp_p_arr = np.median(p_arr, axis = 1)"
   ]
  },
  {
   "cell_type": "code",
   "execution_count": null,
   "id": "473794a7-1802-4f33-b3d1-d3845df8a1ef",
   "metadata": {},
   "outputs": [],
   "source": []
  }
 ],
 "metadata": {
  "kernelspec": {
   "display_name": "Python 3 (ipykernel)",
   "language": "python",
   "name": "python3"
  },
  "language_info": {
   "codemirror_mode": {
    "name": "ipython",
    "version": 3
   },
   "file_extension": ".py",
   "mimetype": "text/x-python",
   "name": "python",
   "nbconvert_exporter": "python",
   "pygments_lexer": "ipython3",
   "version": "3.9.17"
  }
 },
 "nbformat": 4,
 "nbformat_minor": 5
}
