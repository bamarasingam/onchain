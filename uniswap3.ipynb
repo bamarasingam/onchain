{
 "cells": [
  {
   "cell_type": "markdown",
   "id": "576a773b-a3a5-4c3f-8ff2-035747ca6612",
   "metadata": {},
   "source": [
    "Simulating Uniswap V3 Liquidity Pool\n",
    "- Uniswappy: https://github.com/defipy-devs/uniswappy\n",
    "- Uniswap: https://github.com/uniswap-python/uniswap-python?tab=readme-ov-file\n",
    "- Uniswap docs: https://uniswap-python.com/getting-started.html\n",
    "- "
   ]
  },
  {
   "cell_type": "code",
   "execution_count": 1,
   "id": "2d20efc8-d981-41c0-b89c-7967eb414f4a",
   "metadata": {},
   "outputs": [],
   "source": [
    "from uniswappy import *\n",
    "\n",
    "eth_amount = 100\n",
    "tkn_amount = 1000\n",
    "\n",
    "n_steps = 1000\n",
    "start_price = eth_amount/tkn_amount\n",
    "mu = 0.1; sigma = 0.5\n",
    "n_paths = 1\n",
    "\n",
    "b = BrownianModel(start_price)\n",
    "p_arr = b.gen_gbms(mu, sigma, n_steps, n_paths)\n",
    "exp_p_arr = np.median(p_arr, axis = 1)"
   ]
  },
  {
   "cell_type": "code",
   "execution_count": 2,
   "id": "9332a2e4-cd06-4854-80e9-38ac6defd9fb",
   "metadata": {},
   "outputs": [
    {
     "name": "stdout",
     "output_type": "stream",
     "text": [
      "Exchange ETH-TKN (LP)\n",
      "Reserves: ETH = 1000, TKN = 100000\n",
      "Liquidity: 10000.0 \n",
      "\n"
     ]
    }
   ],
   "source": [
    "from uniswappy import *\n",
    "\n",
    "user_nm = 'user'\n",
    "eth_amount = 1000\n",
    "tkn_amount = 100000\n",
    "\n",
    "tkn = ERC20(\"TKN\", \"0x111\")\n",
    "eth = ERC20(\"ETH\", \"0x09\")\n",
    "exchg_data = UniswapExchangeData(tkn0 = eth, tkn1 = tkn, symbol=\"LP\", address=\"0x011\")\n",
    "\n",
    "factory = UniswapFactory(\"ETH pool factory\", \"0x2\")\n",
    "lp = factory.deploy(exchg_data)\n",
    "\n",
    "Join().apply(lp, user_nm, eth_amount, tkn_amount)\n",
    "lp.summary()"
   ]
  },
  {
   "cell_type": "code",
   "execution_count": null,
   "id": "473794a7-1802-4f33-b3d1-d3845df8a1ef",
   "metadata": {},
   "outputs": [],
   "source": []
  }
 ],
 "metadata": {
  "kernelspec": {
   "display_name": "Python 3 (ipykernel)",
   "language": "python",
   "name": "python3"
  },
  "language_info": {
   "codemirror_mode": {
    "name": "ipython",
    "version": 3
   },
   "file_extension": ".py",
   "mimetype": "text/x-python",
   "name": "python",
   "nbconvert_exporter": "python",
   "pygments_lexer": "ipython3",
   "version": "3.10.14"
  }
 },
 "nbformat": 4,
 "nbformat_minor": 5
}
