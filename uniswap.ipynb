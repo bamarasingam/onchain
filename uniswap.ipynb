{
 "cells": [
  {
   "cell_type": "code",
   "execution_count": 1,
   "metadata": {},
   "outputs": [],
   "source": [
    "import requests"
   ]
  },
  {
   "cell_type": "code",
   "execution_count": 2,
   "metadata": {},
   "outputs": [],
   "source": [
    "uniswap_api_url = \"https://api.thegraph.com/subgraphs/name/uniswap/uniswap-v3\""
   ]
  },
  {
   "cell_type": "code",
   "execution_count": 19,
   "metadata": {},
   "outputs": [],
   "source": [
    "query = \"\"\"{\n",
    "    pool(id: \"0xcbcdf9626bc03e24f779434178a73a0b4bad62ed\")\n",
    "    {\n",
    "        id\n",
    "        token0 {\n",
    "            symbol\n",
    "            id\n",
    "        }\n",
    "        token1 {\n",
    "            symbol\n",
    "            id\n",
    "        }\n",
    "        feeTier\n",
    "        totalValueLockedUSD\n",
    "    }\n",
    "}\"\"\""
   ]
  },
  {
   "cell_type": "code",
   "execution_count": 20,
   "metadata": {},
   "outputs": [],
   "source": [
    "response = requests.post(uniswap_api_url, json={'query': query})"
   ]
  },
  {
   "cell_type": "code",
   "execution_count": 21,
   "metadata": {},
   "outputs": [
    {
     "data": {
      "text/plain": [
       "{'data': {'pool': {'id': '0xcbcdf9626bc03e24f779434178a73a0b4bad62ed',\n",
       "   'token0': {'symbol': 'WBTC',\n",
       "    'id': '0x2260fac5e5542a773aa44fbcfedf7c193bc2c599'},\n",
       "   'token1': {'symbol': 'WETH',\n",
       "    'id': '0xc02aaa39b223fe8d0a0e5c4f27ead9083c756cc2'},\n",
       "   'feeTier': '3000',\n",
       "   'totalValueLockedUSD': '515997234.5741425382330581569219594'}}}"
      ]
     },
     "execution_count": 21,
     "metadata": {},
     "output_type": "execute_result"
    }
   ],
   "source": [
    "response.json()"
   ]
  },
  {
   "cell_type": "code",
   "execution_count": null,
   "metadata": {},
   "outputs": [],
   "source": []
  },
  {
   "cell_type": "code",
   "execution_count": null,
   "metadata": {},
   "outputs": [],
   "source": []
  },
  {
   "cell_type": "code",
   "execution_count": null,
   "metadata": {},
   "outputs": [],
   "source": [
    "query = \"\"\"\n",
    "    {\n",
    "        token(id: \"0x2260fac5e5542a773aa44fbcfedf7c193bc2c599\") {\n",
    "            derivedETH\n",
    "            }\n",
    "    }\n",
    "\"\"\"\n",
    "\n",
    "response = requests.post(uniswap_api_url, json = {'query': query})"
   ]
  }
 ],
 "metadata": {
  "kernelspec": {
   "display_name": "base",
   "language": "python",
   "name": "python3"
  },
  "language_info": {
   "codemirror_mode": {
    "name": "ipython",
    "version": 3
   },
   "file_extension": ".py",
   "mimetype": "text/x-python",
   "name": "python",
   "nbconvert_exporter": "python",
   "pygments_lexer": "ipython3",
   "version": "3.11.4"
  }
 },
 "nbformat": 4,
 "nbformat_minor": 2
}
