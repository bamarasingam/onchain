{
 "cells": [
  {
   "cell_type": "markdown",
   "metadata": {},
   "source": [
    "Using GraphQL and Uniswap to query data from liquidty pools. "
   ]
  },
  {
   "cell_type": "code",
   "execution_count": 1,
   "metadata": {},
   "outputs": [],
   "source": [
    "#Import libraries\n",
    "import requests"
   ]
  },
  {
   "cell_type": "code",
   "execution_count": 2,
   "metadata": {},
   "outputs": [],
   "source": [
    "#Define Uniswap API URL\n",
    "uniswap_api_url = \"https://api.thegraph.com/subgraphs/name/uniswap/uniswap-v3\""
   ]
  },
  {
   "cell_type": "code",
   "execution_count": 3,
   "metadata": {},
   "outputs": [],
   "source": [
    "#Create GraphQL Query String\n",
    "#id has to be in all lowercase \n",
    "query = \"\"\"{\n",
    "    pool(id: \"0xcbcdf9626bc03e24f779434178a73a0b4bad62ed\")\n",
    "    {\n",
    "        id\n",
    "        token0 {\n",
    "            symbol\n",
    "            id\n",
    "        }\n",
    "        token1 {\n",
    "            symbol\n",
    "            id\n",
    "        }\n",
    "        feeTier\n",
    "        totalValueLockedUSD\n",
    "    }\n",
    "}\"\"\""
   ]
  },
  {
   "cell_type": "code",
   "execution_count": 4,
   "metadata": {},
   "outputs": [],
   "source": [
    "#Send Query\n",
    "response = requests.post(uniswap_api_url, json={'query': query})"
   ]
  },
  {
   "cell_type": "code",
   "execution_count": 5,
   "metadata": {},
   "outputs": [
    {
     "data": {
      "text/plain": [
       "{'message': 'This endpoint has been removed. If you are the owner of this subgraph you can upgrade it by going here: https://thegraph.com/hosted-service. If you have any questions, reach out to support@thegraph.zendesk.com. Learn more about why this happening here: https://thegraph.com/docs/en/sunrise/#upgrading-subgraphs-to-the-graph-network'}"
      ]
     },
     "execution_count": 5,
     "metadata": {},
     "output_type": "execute_result"
    }
   ],
   "source": [
    "#Get response\n",
    "response.json()"
   ]
  },
  {
   "cell_type": "code",
   "execution_count": 6,
   "metadata": {},
   "outputs": [
    {
     "data": {
      "text/plain": [
       "{'message': 'This endpoint has been removed. If you are the owner of this subgraph you can upgrade it by going here: https://thegraph.com/hosted-service. If you have any questions, reach out to support@thegraph.zendesk.com. Learn more about why this happening here: https://thegraph.com/docs/en/sunrise/#upgrading-subgraphs-to-the-graph-network'}"
      ]
     },
     "execution_count": 6,
     "metadata": {},
     "output_type": "execute_result"
    }
   ],
   "source": [
    "#Copy of the above 3 cells\n",
    "query = \"\"\"{\n",
    "    pool(id: \"0x525574c899a7c877a11865339e57376092168258\")\n",
    "    {\n",
    "        id\n",
    "        token0 {\n",
    "            symbol\n",
    "            id\n",
    "        }\n",
    "        token1 {\n",
    "            symbol\n",
    "            id\n",
    "        }\n",
    "        feeTier\n",
    "        totalValueLockedUSD\n",
    "    }\n",
    "}\"\"\"\n",
    "\n",
    "#Send Query\n",
    "response = requests.post(uniswap_api_url, json={'query': query})\n",
    "\n",
    "#Get response\n",
    "response.json()"
   ]
  },
  {
   "cell_type": "code",
   "execution_count": 7,
   "metadata": {},
   "outputs": [
    {
     "data": {
      "text/plain": [
       "{'message': 'This endpoint has been removed. If you are the owner of this subgraph you can upgrade it by going here: https://thegraph.com/hosted-service. If you have any questions, reach out to support@thegraph.zendesk.com. Learn more about why this happening here: https://thegraph.com/docs/en/sunrise/#upgrading-subgraphs-to-the-graph-network'}"
      ]
     },
     "execution_count": 7,
     "metadata": {},
     "output_type": "execute_result"
    }
   ],
   "source": [
    "#Create Query\n",
    "query = \"\"\"\n",
    "    {\n",
    "        token(id: \"0x2260fac5e5542a773aa44fbcfedf7c193bc2c599\") {\n",
    "            derivedETH\n",
    "            }\n",
    "    }\n",
    "\"\"\"\n",
    "\n",
    "response = requests.post(uniswap_api_url, json = {'query': query})\n",
    "\n",
    "#Get response\n",
    "response.json()"
   ]
  },
  {
   "cell_type": "code",
   "execution_count": null,
   "metadata": {},
   "outputs": [],
   "source": []
  },
  {
   "cell_type": "code",
   "execution_count": 8,
   "metadata": {},
   "outputs": [
    {
     "data": {
      "text/plain": [
       "{'message': 'This endpoint has been removed. If you are the owner of this subgraph you can upgrade it by going here: https://thegraph.com/hosted-service. If you have any questions, reach out to support@thegraph.zendesk.com. Learn more about why this happening here: https://thegraph.com/docs/en/sunrise/#upgrading-subgraphs-to-the-graph-network'}"
      ]
     },
     "execution_count": 8,
     "metadata": {},
     "output_type": "execute_result"
    }
   ],
   "source": [
    "#Create query\n",
    "query = \"\"\"\n",
    "    {\n",
    "        pools (orderBy: totalValueLockedUSD, orderDirection: desc){\n",
    "            id\n",
    "            token0 {\n",
    "                symbol\n",
    "                id\n",
    "            }\n",
    "            token1 {\n",
    "                symbol\n",
    "                id\n",
    "            }\n",
    "            feeTier\n",
    "            totalValueLockedUSD\n",
    "        }\n",
    "    }\n",
    "\"\"\"\n",
    "\n",
    "response = requests.post(uniswap_api_url, json={'query': query})\n",
    "\n",
    "#Get response\n",
    "response.json()"
   ]
  },
  {
   "cell_type": "code",
   "execution_count": null,
   "metadata": {},
   "outputs": [],
   "source": []
  },
  {
   "cell_type": "markdown",
   "metadata": {},
   "source": [
    "https://www.reddit.com/r/UniSwap/comments/su4iad/how_to_use_the_uniswap_api_to_access_historical/\n",
    "https://thegraph.com/explorer\n"
   ]
  },
  {
   "cell_type": "code",
   "execution_count": 10,
   "metadata": {},
   "outputs": [
    {
     "data": {
      "text/plain": [
       "{'message': 'This endpoint has been removed. If you are the owner of this subgraph you can upgrade it by going here: https://thegraph.com/hosted-service. If you have any questions, reach out to support@thegraph.zendesk.com. Learn more about why this happening here: https://thegraph.com/docs/en/sunrise/#upgrading-subgraphs-to-the-graph-network'}"
      ]
     },
     "execution_count": 10,
     "metadata": {},
     "output_type": "execute_result"
    }
   ],
   "source": [
    "# query = \n",
    "\n",
    "#Send Query\n",
    "response = requests.post(uniswap_api_url, json={'query': query})\n",
    "\n",
    "#Get response\n",
    "response.json()"
   ]
  },
  {
   "cell_type": "code",
   "execution_count": 11,
   "metadata": {},
   "outputs": [
    {
     "name": "stdout",
     "output_type": "stream",
     "text": [
      "Query failed to run with a 410. {\"message\":\"This endpoint has been removed. If you are the owner of this subgraph you can upgrade it by going here: https://thegraph.com/hosted-service. If you have any questions, reach out to support@thegraph.zendesk.com. Learn more about why this happening here: https://thegraph.com/docs/en/sunrise/#upgrading-subgraphs-to-the-graph-network\"}\n"
     ]
    }
   ],
   "source": [
    "# Define the GraphQL endpoint\n",
    "graphql_endpoint = \"https://api.thegraph.com/subgraphs/name/uniswap/uniswap-v2\"\n",
    "\n",
    "# Define the GraphQL query\n",
    "query = \"\"\"\n",
    "{\n",
    "  swaps(orderBy: timestamp, orderDirection: desc, where: { pair: \"0x7a415b19932c0105c82fdb6b720bb01b0cc2cae3\" }) {\n",
    "    id\n",
    "    timestamp\n",
    "    sender\n",
    "    amount0In\n",
    "    amount0Out\n",
    "    amount1In\n",
    "    amount1Out\n",
    "    amountUSD\n",
    "    to\n",
    "  }\n",
    "}\n",
    "\"\"\"\n",
    "\n",
    "# Send the request to the GraphQL endpoint\n",
    "response = requests.post(graphql_endpoint, json={'query': query})\n",
    "\n",
    "# Check if the request was successful\n",
    "if response.status_code == 200:\n",
    "    data = response.json()\n",
    "    # Print the entire response to inspect its structure\n",
    "    print(\"Response JSON:\", data)\n",
    "    \n",
    "    # Check if 'data' and 'swaps' keys are in the response\n",
    "    if 'data' in data and 'swaps' in data['data']:\n",
    "        swaps = data['data']['swaps']\n",
    "        print(swaps)\n",
    "    else:\n",
    "        print(\"No data found for the specified pool ID.\")\n",
    "else:\n",
    "    print(f\"Query failed to run with a {response.status_code}. {response.text}\")\n"
   ]
  },
  {
   "cell_type": "code",
   "execution_count": 12,
   "metadata": {},
   "outputs": [
    {
     "name": "stdout",
     "output_type": "stream",
     "text": [
      "Query failed to run with a 410. {\"message\":\"This endpoint has been removed. If you are the owner of this subgraph you can upgrade it by going here: https://thegraph.com/hosted-service. If you have any questions, reach out to support@thegraph.zendesk.com. Learn more about why this happening here: https://thegraph.com/docs/en/sunrise/#upgrading-subgraphs-to-the-graph-network\"}\n"
     ]
    }
   ],
   "source": [
    "import requests\n",
    "\n",
    "# Define the GraphQL endpoint\n",
    "graphql_endpoint = \"https://api.thegraph.com/subgraphs/name/uniswap/uniswap-v2\"\n",
    "\n",
    "# Define a broader GraphQL query\n",
    "query = \"\"\"\n",
    "{\n",
    "  swaps(orderBy: timestamp, orderDirection: desc, first: 5) {\n",
    "    id\n",
    "    timestamp\n",
    "    sender\n",
    "    amount0In\n",
    "    amount0Out\n",
    "    amount1In\n",
    "    amount1Out\n",
    "    amountUSD\n",
    "    to\n",
    "  }\n",
    "}\n",
    "\"\"\"\n",
    "\n",
    "# Send the request to the GraphQL endpoint\n",
    "response = requests.post(graphql_endpoint, json={'query': query})\n",
    "\n",
    "# Check if the request was successful\n",
    "if response.status_code == 200:\n",
    "    data = response.json()\n",
    "    # Print the entire response to inspect its structure\n",
    "    print(\"Response JSON:\", data)\n",
    "    \n",
    "    # Check if 'data' and 'swaps' keys are in the response\n",
    "    if 'data' in data and 'swaps' in data['data']:\n",
    "        swaps = data['data']['swaps']\n",
    "        print(swaps)\n",
    "    else:\n",
    "        print(\"No data found.\")\n",
    "else:\n",
    "    print(f\"Query failed to run with a {response.status_code}. {response.text}\")\n"
   ]
  },
  {
   "cell_type": "code",
   "execution_count": null,
   "metadata": {},
   "outputs": [],
   "source": []
  }
 ],
 "metadata": {
  "kernelspec": {
   "display_name": "Python 3 (ipykernel)",
   "language": "python",
   "name": "python3"
  },
  "language_info": {
   "codemirror_mode": {
    "name": "ipython",
    "version": 3
   },
   "file_extension": ".py",
   "mimetype": "text/x-python",
   "name": "python",
   "nbconvert_exporter": "python",
   "pygments_lexer": "ipython3",
   "version": "3.10.13"
  }
 },
 "nbformat": 4,
 "nbformat_minor": 4
}
