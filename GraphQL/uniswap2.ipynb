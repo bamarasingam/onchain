{
 "cells": [
  {
   "cell_type": "code",
   "execution_count": 2,
   "metadata": {},
   "outputs": [],
   "source": [
    "import requests\n",
    "import pandas as pd\n",
    "from datetime import datetime, timedelta"
   ]
  },
  {
   "cell_type": "code",
   "execution_count": 3,
   "metadata": {},
   "outputs": [],
   "source": [
    "def fetch_pool_prices(pool_address, minutes = 400):\n",
    "    end_timestamp = datetime.utcnow()\n",
    "    start_timestamp = end_timestamp - timedelta(minutes = minutes)\n",
    "\n",
    "    query = \"\"\"{swaps(where:{pool: \"%s\", timestamp_gte: %d,\n",
    "    timestamp_lte: %d},\n",
    "    orderBy: timestamp, orderDirection: asc){\n",
    "    timestamp\n",
    "    amount0 \n",
    "    amount1 \n",
    "    }}\"\"\" % (pool_address, start_timestamp.timestamp(), end_timestamp.timestamp())\n",
    "\n",
    "    url = 'https://api.thegraph.com/subgraphs/name/uniswap/uniswap-v3'\n",
    "    response = requests.post(url, json={'query': query})\n",
    "    data = response.json()\n",
    "\n",
    "    swaps = data.get('data',()).get('swaps', [])\n",
    "\n",
    "    df = pd.DataFrame(swaps)\n",
    "    df['timestamp'] = pd.to_datetime(df['timestamp'], unit='s') #Change from UNIX to datetime\n",
    "    df['price'] = abs(df['amount1'].astype(float)/df['amount0'].astype(float))\n",
    "\n",
    "    return df"
   ]
  },
  {
   "cell_type": "code",
   "execution_count": 4,
   "metadata": {},
   "outputs": [
    {
     "ename": "AttributeError",
     "evalue": "'tuple' object has no attribute 'get'",
     "output_type": "error",
     "traceback": [
      "\u001b[0;31m---------------------------------------------------------------------------\u001b[0m",
      "\u001b[0;31mAttributeError\u001b[0m                            Traceback (most recent call last)",
      "Cell \u001b[0;32mIn[4], line 2\u001b[0m\n\u001b[1;32m      1\u001b[0m pool_address \u001b[38;5;241m=\u001b[39m \u001b[38;5;124m'\u001b[39m\u001b[38;5;124m0x7baecE5d47f1BC5E1953FBE0E9931D54DAB6D810\u001b[39m\u001b[38;5;124m'\u001b[39m\u001b[38;5;241m.\u001b[39mlower() \u001b[38;5;66;03m#$TURBO/WETH pool address\u001b[39;00m\n\u001b[0;32m----> 2\u001b[0m \u001b[43mfetch_pool_prices\u001b[49m\u001b[43m(\u001b[49m\u001b[43mpool_address\u001b[49m\u001b[43m)\u001b[49m\n",
      "Cell \u001b[0;32mIn[3], line 17\u001b[0m, in \u001b[0;36mfetch_pool_prices\u001b[0;34m(pool_address, minutes)\u001b[0m\n\u001b[1;32m     14\u001b[0m response \u001b[38;5;241m=\u001b[39m requests\u001b[38;5;241m.\u001b[39mpost(url, json\u001b[38;5;241m=\u001b[39m{\u001b[38;5;124m'\u001b[39m\u001b[38;5;124mquery\u001b[39m\u001b[38;5;124m'\u001b[39m: query})\n\u001b[1;32m     15\u001b[0m data \u001b[38;5;241m=\u001b[39m response\u001b[38;5;241m.\u001b[39mjson()\n\u001b[0;32m---> 17\u001b[0m swaps \u001b[38;5;241m=\u001b[39m \u001b[43mdata\u001b[49m\u001b[38;5;241;43m.\u001b[39;49m\u001b[43mget\u001b[49m\u001b[43m(\u001b[49m\u001b[38;5;124;43m'\u001b[39;49m\u001b[38;5;124;43mdata\u001b[39;49m\u001b[38;5;124;43m'\u001b[39;49m\u001b[43m,\u001b[49m\u001b[43m(\u001b[49m\u001b[43m)\u001b[49m\u001b[43m)\u001b[49m\u001b[38;5;241;43m.\u001b[39;49m\u001b[43mget\u001b[49m(\u001b[38;5;124m'\u001b[39m\u001b[38;5;124mswaps\u001b[39m\u001b[38;5;124m'\u001b[39m, [])\n\u001b[1;32m     19\u001b[0m df \u001b[38;5;241m=\u001b[39m pd\u001b[38;5;241m.\u001b[39mDataFrame(swaps)\n\u001b[1;32m     20\u001b[0m df[\u001b[38;5;124m'\u001b[39m\u001b[38;5;124mtimestamp\u001b[39m\u001b[38;5;124m'\u001b[39m] \u001b[38;5;241m=\u001b[39m pd\u001b[38;5;241m.\u001b[39mto_datetime(df[\u001b[38;5;124m'\u001b[39m\u001b[38;5;124mtimestamp\u001b[39m\u001b[38;5;124m'\u001b[39m], unit\u001b[38;5;241m=\u001b[39m\u001b[38;5;124m'\u001b[39m\u001b[38;5;124ms\u001b[39m\u001b[38;5;124m'\u001b[39m) \u001b[38;5;66;03m#Change from UNIX to datetime\u001b[39;00m\n",
      "\u001b[0;31mAttributeError\u001b[0m: 'tuple' object has no attribute 'get'"
     ]
    }
   ],
   "source": [
    "pool_address = '0x7baecE5d47f1BC5E1953FBE0E9931D54DAB6D810'.lower() #$TURBO/WETH pool address\n",
    "fetch_pool_prices(pool_address)"
   ]
  },
  {
   "cell_type": "code",
   "execution_count": null,
   "metadata": {},
   "outputs": [],
   "source": [
    "def fetch_pool_prices_pagi(pool_address, minutes = 400):\n",
    "    end_timestamp = datetime.utcnow()\n",
    "    start_timestamp = end_timestamp - timedelta(minutes = minutes)\n",
    "\n",
    "    url = 'https://api.thegraph.com/subgraphs/name/uniswap/uniswap-v3'\n",
    "\n",
    "    all_swaps = [] #Will store all iterations of queries\n",
    "    last_id = \"\" \n",
    "\n",
    "    while True:\n",
    "        query = \"\"\"{swaps(first:100,where:{pool: \"%s\", timestamp_gte: %d,\n",
    "        timestamp_lte: %d, id_gt: \"%s\"},\n",
    "        orderBy: id, orderDirection: asc){\n",
    "        id\n",
    "        timestamp\n",
    "        amount0 \n",
    "        amount1 \n",
    "        }}\"\"\" % (pool_address, start_timestamp.timestamp(), end_timestamp.timestamp(), last_id)\n",
    "\n",
    "        response = requests.post(url, json={'query': query})\n",
    "        data = response.json()\n",
    "        swaps = data.get('data',()).get('swaps', [])\n",
    "        if not swaps:\n",
    "            break\n",
    "        all_swaps.extend(swaps)\n",
    "        last_id = swaps[-1]['id']\n",
    "\n",
    "        if len(swaps) < 100:\n",
    "            break\n",
    "       \n",
    "    df = pd.DataFrame(all_swaps)\n",
    "    df['timestamp'] = pd.to_datetime(df['timestamp'], unit='s') #Change from UNIX to datetime\n",
    "    df['price'] = abs(df['amount1'].astype(float)/df['amount0'].astype(float))\n",
    "\n",
    "    return df"
   ]
  },
  {
   "cell_type": "code",
   "execution_count": null,
   "metadata": {},
   "outputs": [],
   "source": [
    "df_x = fetch_pool_prices_pagi(pool_address,minutes=5000)\n",
    "\n",
    "df_x.set_index('timestamp').price.plot()"
   ]
  },
  {
   "cell_type": "code",
   "execution_count": null,
   "metadata": {},
   "outputs": [],
   "source": []
  }
 ],
 "metadata": {
  "kernelspec": {
   "display_name": "Python 3 (ipykernel)",
   "language": "python",
   "name": "python3"
  },
  "language_info": {
   "codemirror_mode": {
    "name": "ipython",
    "version": 3
   },
   "file_extension": ".py",
   "mimetype": "text/x-python",
   "name": "python",
   "nbconvert_exporter": "python",
   "pygments_lexer": "ipython3",
   "version": "3.10.13"
  }
 },
 "nbformat": 4,
 "nbformat_minor": 4
}
